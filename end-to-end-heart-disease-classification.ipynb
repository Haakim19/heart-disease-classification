{
 "cells": [
  {
   "cell_type": "markdown",
   "id": "59a1ae01",
   "metadata": {},
   "source": [
    "## Predicting Heart disease using machine learning \n",
    "This notbook looks into using various python-base machine learning and data science librarys in an attempt to build a machine learning model capable of predicting whether or not some one hase heart disease based on there medical attributes\n",
    "\n",
    "We'r going to take following applroch\n"
   ]
  },
  {
   "cell_type": "code",
   "execution_count": 1,
   "id": "b509befb",
   "metadata": {},
   "outputs": [],
   "source": [
    "import numpy as np"
   ]
  }
 ],
 "metadata": {
  "kernelspec": {
   "display_name": "Python 3 (ipykernel)",
   "language": "python",
   "name": "python3"
  },
  "language_info": {
   "codemirror_mode": {
    "name": "ipython",
    "version": 3
   },
   "file_extension": ".py",
   "mimetype": "text/x-python",
   "name": "python",
   "nbconvert_exporter": "python",
   "pygments_lexer": "ipython3",
   "version": "3.12.10"
  },
  "widgets": {
   "application/vnd.jupyter.widget-state+json": {
    "state": {},
    "version_major": 2,
    "version_minor": 0
   }
  }
 },
 "nbformat": 4,
 "nbformat_minor": 5
}
